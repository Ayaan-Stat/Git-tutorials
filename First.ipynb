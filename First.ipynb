{
 "cells": [
  {
   "cell_type": "code",
   "execution_count": 1,
   "metadata": {},
   "outputs": [
    {
     "name": "stdout",
     "output_type": "stream",
     "text": [
      "Please enter any interger:24\n",
      "24 is an even number\n"
     ]
    }
   ],
   "source": [
    "x=int(input(\"Please enter any interger:\"))\n",
    "if x%2==0:\n",
    "    print(\"{} is an even number\".format(x))\n",
    "else:\n",
    "    print(\"{} is a odd number\".format(x))"
   ]
  },
  {
   "cell_type": "code",
   "execution_count": 5,
   "metadata": {},
   "outputs": [
    {
     "name": "stdout",
     "output_type": "stream",
     "text": [
      "Please enter 1th number:12\n",
      "Please enter 2th number:43\n",
      "Please enter 3th number:23\n",
      "Please enter 4th number:23\n",
      "Please enter 5th number:22\n",
      "Please enter 6th number:43\n",
      "Please enter 7th number:44\n",
      "Please enter 8th number:334\n",
      "Please enter 9th number:32\n",
      "Please enter 10th number:22\n",
      "[12, 43, 23, 23, 22, 43, 44, 334, 32, 22]\n"
     ]
    }
   ],
   "source": [
    "list1=[]\n",
    "for i in range(10):\n",
    "    x=int(input(\"Please enter {}th number:\".format(i+1)))\n",
    "    list1.append(x)\n",
    "print(list1)\n"
   ]
  },
  {
   "cell_type": "markdown",
   "metadata": {},
   "source": []
  },
  {
   "cell_type": "code",
   "execution_count": null,
   "metadata": {},
   "outputs": [],
   "source": []
  }
 ],
 "metadata": {
  "kernelspec": {
   "display_name": "Python 3",
   "language": "python",
   "name": "python3"
  },
  "language_info": {
   "codemirror_mode": {
    "name": "ipython",
    "version": 3
   },
   "file_extension": ".py",
   "mimetype": "text/x-python",
   "name": "python",
   "nbconvert_exporter": "python",
   "pygments_lexer": "ipython3",
   "version": "3.8.1"
  }
 },
 "nbformat": 4,
 "nbformat_minor": 4
}
